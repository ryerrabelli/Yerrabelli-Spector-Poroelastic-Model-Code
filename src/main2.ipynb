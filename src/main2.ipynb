{
 "nbformat": 4,
 "nbformat_minor": 0,
 "metadata": {
  "kernelspec": {
   "name": "python3",
   "language": "python",
   "display_name": "Python 3"
  },
  "language_info": {
   "codemirror_mode": {
    "name": "ipython",
    "version": 2
   },
   "file_extension": ".py",
   "mimetype": "text/x-python",
   "name": "python",
   "nbconvert_exporter": "python",
   "pygments_lexer": "ipython2",
   "version": "2.7.6"
  },
  "colab": {
   "name": "main2.ipynb",
   "provenance": []
  }
 },
 "cells": [
  {
   "cell_type": "code",
   "metadata": {
    "collapsed": true,
    "id": "RW1PNrbaGS2G"
   },
   "source": [
    "import sys\n",
    "print(sys.version)\n",
    "\n",
    "import numpy as np\n"
   ],
   "execution_count": 21,
   "outputs": [
    {
     "name": "stdout",
     "output_type": "stream",
     "text": [
      "3.8.5 (default, Sep  4 2020, 02:22:02) \n",
      "[Clang 10.0.0 ]\n"
     ]
    }
   ]
  },
  {
   "cell_type": "code",
   "metadata": {
    "pycharm": {
     "name": "#%%\n"
    },
    "id": "oKBYB4KvGS2M",
    "outputId": "b6f3b0f2-b743-4f91-ae5d-d06aa7854a92"
   },
   "source": [
    "# inputting a value of time=0 doesn't error (just returns None/NaN), but takes longer (about 2x as much) on python; not really MATLAB though\n",
    "times=np.array([2,3])\n",
    "times = np.arange(0.05, 5.05, 0.05)\n",
    "\n",
    "from src.euler_inversion import euler_inversion\n",
    "from src.viscoporoelastic_model import ViscoporoelasticModel\n",
    "import time as timer\n",
    "t1=timer.time();\n",
    "\n",
    "ViscoporoelasticModel.eps0 = 0.1;  # 10 percent\n",
    "ViscoporoelasticModel.strain_rate = 0.1;  # 1 percent per s (normally 1#/s)\n",
    "## Below are directly determined by the mesh deformation part of the\n",
    "## experiment (see our paper with Daniel).  -Dr. Spector\n",
    "ViscoporoelasticModel.Vrz = 0.5;  # Not actually v, but greek nu (represents Poisson's ratio)\n",
    "ViscoporoelasticModel.Ezz = 10;  # Note- don't mix up Ezz with epszz\n",
    "\n",
    "vpe = ViscoporoelasticModel()\n",
    "\n",
    "## Fitted parameters (to be determined by experimental fitting to\n",
    "# the unknown material)\n",
    "vpe.c =  0 #@param {type:\"number\"} ;\n",
    "vpe.tau1 = 1 #@param {type:\"number\"} ;\n",
    "vpe.tau2 = 1 #@param {type:\"number\"} ;\n",
    "#tau = [tau1, tau2];\n",
    "#tau = [1 1];\n",
    "vpe.tg=40.62 #@param {type:\"number\"}; #in units of s   # for porosity_sp == 0.5\n",
    "vpe.Vrtheta = 1 #@param {type:\"number\"}; # Not actually v, but greek nu (represents Poisson's ratio)\n",
    "vpe.Err = 1 #@param {type:\"number\"};\n",
    "\n",
    "import time as timer\n",
    "t1=timer.time();\n",
    "sigma=euler_inversion(vpe.laplace_value, times)\n",
    "t2=timer.time()-t1\n",
    "print(\"Time taken in sec:\", t2)"
   ],
   "execution_count": 22,
   "outputs": [
    {
     "name": "stdout",
     "output_type": "stream",
     "text": [
      "0\n",
      "Time taken in sec: 0.07984423637390137\n"
     ]
    }
   ]
  },
  {
   "cell_type": "code",
   "execution_count": 24,
   "outputs": [
    {
     "name": "stdout",
     "output_type": "stream",
     "text": [
      "0\n"
     ]
    },
    {
     "data": {
      "text/plain": "<Figure size 648x216 with 2 Axes>",
      "image/png": "[encoded data removed]"
     },
     "metadata": {
      "needs_background": "light"
     },
     "output_type": "display_data"
    }
   ],
   "source": [
    "#ss = np.arange(-5, 5.05, 0.05)\n",
    "ss = np.arange(00.5, 5.05, 0.05)\n",
    "sigma_bar = vpe.laplace_value(ss)\n",
    "\n",
    "##%%\n",
    "import matplotlib.pyplot as plt\n",
    "fig, axs = plt.subplots(1,2)\n",
    "fig.set_figwidth(9)\n",
    "fig.set_figheight(3)\n",
    "\n",
    "axs[0].plot(ss, sigma_bar)\n",
    "axs[0].set_xlabel(\"s\")\n",
    "#axs[0].set_xlim([0, None])\n",
    "axs[0].set_ylabel(\"sigma_bar\")\n",
    "axs[0].grid()\n",
    "\n",
    "axs[1].plot(times, sigma)\n",
    "axs[1].set_xlabel(\"time\")\n",
    "axs[1].set_xlim([0, None])\n",
    "axs[1].set_ylabel(\"sigma\")\n",
    "axs[1].grid()\n",
    "\n",
    "#axs[0].show()\n"
   ],
   "metadata": {
    "collapsed": false,
    "pycharm": {
     "name": "#%%\n"
    }
   }
  }
 ]
}
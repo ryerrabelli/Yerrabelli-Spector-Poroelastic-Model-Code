{
 "nbformat": 4,
 "nbformat_minor": 0,
 "metadata": {
  "kernelspec": {
   "name": "python3",
   "language": "python",
   "display_name": "Python 3"
  },
  "language_info": {
   "codemirror_mode": {
    "name": "ipython",
    "version": 2
   },
   "file_extension": ".py",
   "mimetype": "text/x-python",
   "name": "python",
   "nbconvert_exporter": "python",
   "pygments_lexer": "ipython2",
   "version": "2.7.6"
  },
  "colab": {
   "name": "main2.ipynb",
   "provenance": []
  }
 },
 "cells": [
  {
   "cell_type": "code",
   "metadata": {
    "collapsed": true,
    "id": "RW1PNrbaGS2G"
   },
   "source": [
    "import sys\n",
    "print(sys.version)\n",
    "\n",
    "import numpy as np\n"
   ],
   "execution_count": 17,
   "outputs": [
    {
     "name": "stdout",
     "output_type": "stream",
     "text": [
      "3.8.5 (default, Sep  4 2020, 02:22:02) \n",
      "[Clang 10.0.0 ]\n"
     ]
    }
   ]
  },
  {
   "cell_type": "code",
   "metadata": {
    "pycharm": {
     "name": "#%%\n"
    },
    "id": "oKBYB4KvGS2M",
    "outputId": "b6f3b0f2-b743-4f91-ae5d-d06aa7854a92"
   },
   "source": [
    "## Fitted parameters (to be determined by experimental fitting to\n",
    "# the unknown material)\n",
    "c = 1;\n",
    "tau1 = 1;\n",
    "tau2 = 1;\n",
    "#tau = [tau1, tau2];\n",
    "#tau = [1 1];\n",
    "tg=40.62; #in units of s   # for porosity_sp == 0.5\n",
    "Vrtheta = 1; # Not actually v, but greek nu (represents Poisson's ratio)\n",
    "Err = 1;\n",
    "\n",
    "\n",
    "# inputting a value of time=0 doesn't error (just returns None/NaN), but takes longer (about 2x as much) on python; not really MATLAB though\n",
    "times=np.array([2,3])\n",
    "times = np.arange(0.05, 5.05, 0.05)\n",
    "\n",
    "from euler_inversion import euler_inversion\n",
    "from src.viscoporoelastic_model import viscoporoelastic_model\n",
    "import time as timer\n",
    "t1=timer.time();\n",
    "vpe = viscoporoelastic_model()\n",
    "vpe.laplace_function(1)\n",
    "ret=euler_inversion(vpe.laplace_function, times)\n",
    "t2=timer.time()-t1\n",
    "print(t2)"
   ],
   "execution_count": 18,
   "outputs": [
    {
     "name": "stdout",
     "output_type": "stream",
     "text": [
      "1\n",
      "[[491.21815317+0.00000000e+00j 491.21815317+6.28318531e+01j\n",
      "  491.21815317+1.25663706e+02j ... 491.21815317+3.89557489e+03j\n",
      "  491.21815317+3.95840674e+03j 491.21815317+4.02123860e+03j]\n",
      " [245.60907659+0.00000000e+00j 245.60907659+3.14159265e+01j\n",
      "  245.60907659+6.28318531e+01j ... 245.60907659+1.94778745e+03j\n",
      "  245.60907659+1.97920337e+03j 245.60907659+2.01061930e+03j]\n",
      " [163.73938439+0.00000000e+00j 163.73938439+2.09439510e+01j\n",
      "  163.73938439+4.18879020e+01j ... 163.73938439+1.29852496e+03j\n",
      "  163.73938439+1.31946891e+03j 163.73938439+1.34041287e+03j]\n",
      " ...\n",
      " [  5.01243013+0.00000000e+00j   5.01243013+6.41141358e-01j\n",
      "    5.01243013+1.28228272e+00j ...   5.01243013+3.97507642e+01j\n",
      "    5.01243013+4.03919055e+01j   5.01243013+4.10330469e+01j]\n",
      " [  4.96179953+0.00000000e+00j   4.96179953+6.34665183e-01j\n",
      "    4.96179953+1.26933037e+00j ...   4.96179953+3.93492413e+01j\n",
      "    4.96179953+3.99839065e+01j   4.96179953+4.06185717e+01j]\n",
      " [  4.91218153+0.00000000e+00j   4.91218153+6.28318531e-01j\n",
      "    4.91218153+1.25663706e+00j ...   4.91218153+3.89557489e+01j\n",
      "    4.91218153+3.95840674e+01j   4.91218153+4.02123860e+01j]]\n",
      "0.047125816345214844\n"
     ]
    }
   ]
  },
  {
   "cell_type": "code",
   "metadata": {
    "pycharm": {
     "name": "#%%\n"
    },
    "id": "n3jQR-HtGS2N"
   },
   "source": [
    "import matplotlib.pyplot as plt\n",
    "\n",
    "plt.plot(times, ret)\n",
    "plt.show()\n",
    "\n"
   ],
   "execution_count": 19,
   "outputs": [
    {
     "data": {
      "text/plain": "<Figure size 432x288 with 1 Axes>",
      "image/png": "[encoded data removed]"
     },
     "metadata": {
      "needs_background": "light"
     },
     "output_type": "display_data"
    }
   ]
  }
 ]
}